{
 "cells": [
  {
   "cell_type": "code",
   "execution_count": 1,
   "id": "97392e59",
   "metadata": {},
   "outputs": [
    {
     "name": "stdout",
     "output_type": "stream",
     "text": [
      "enter your name:nikhitha\n",
      "nikhitha\n"
     ]
    }
   ],
   "source": [
    "a=input(\"enter your name:\")\n",
    "print(a)"
   ]
  },
  {
   "cell_type": "code",
   "execution_count": 2,
   "id": "3ff807c0",
   "metadata": {},
   "outputs": [
    {
     "name": "stdout",
     "output_type": "stream",
     "text": [
      "12\n",
      "12\n"
     ]
    }
   ],
   "source": [
    "val=input()\n",
    "print(val)"
   ]
  },
  {
   "cell_type": "code",
   "execution_count": null,
   "id": "3da02d5f",
   "metadata": {},
   "outputs": [],
   "source": [
    "val=int(input('enter iinteger value:'))\n",
    "print(val)\n",
    "print(type(val))"
   ]
  },
  {
   "cell_type": "code",
   "execution_count": 2,
   "id": "3029bb53",
   "metadata": {},
   "outputs": [
    {
     "name": "stdout",
     "output_type": "stream",
     "text": [
      "enter first integer25\n",
      "enter second integr10\n",
      "35\n",
      "15\n",
      "250\n",
      "2.5\n",
      "2\n",
      "95367431640625\n",
      "5\n"
     ]
    }
   ],
   "source": [
    "a=int(input(\"enter first integer\"))\n",
    "b=int(input(\"enter second integr\"))\n",
    "print(a+b)\n",
    "print(a-b)\n",
    "print(a*b)\n",
    "print(a/b)\n",
    "print(a//b)\n",
    "print(a**b)\n",
    "print(a%b)"
   ]
  },
  {
   "cell_type": "code",
   "execution_count": 4,
   "id": "eca81bfa",
   "metadata": {},
   "outputs": [
    {
     "name": "stdout",
     "output_type": "stream",
     "text": [
      "enter age:12\n",
      "you are not eligible to vote\n"
     ]
    }
   ],
   "source": [
    "age=int(input(\"enter age:\"))\n",
    "if(age>18):\n",
    "    print(\"you are eligible to vote\")\n",
    "else:\n",
    "     print(\"you are not eligible to vote\")"
   ]
  },
  {
   "cell_type": "code",
   "execution_count": 6,
   "id": "30e13949",
   "metadata": {},
   "outputs": [
    {
     "name": "stdout",
     "output_type": "stream",
     "text": [
      "enter any number:3\n",
      "odd\n"
     ]
    }
   ],
   "source": [
    "number=int(input(\"enter any number:\"))\n",
    "if(number%2==0):\n",
    "    print(\"even\")+\n",
    "else:\n",
    "    print(\"odd\")"
   ]
  },
  {
   "cell_type": "code",
   "execution_count": 8,
   "id": "e51a41ba",
   "metadata": {},
   "outputs": [
    {
     "name": "stdout",
     "output_type": "stream",
     "text": [
      "enter any number:3\n",
      "three\n"
     ]
    }
   ],
   "source": [
    "number=int(input(\"enter any number:\"))\n",
    "if(number==1):\n",
    "    print(\"one\")\n",
    "elif(number==2):\n",
    "    print(\"two\")\n",
    "elif(number==3):\n",
    "    print(\"three\")\n",
    "elif(number==4):\n",
    "    print(\"four\")\n",
    "elif(number==5):\n",
    "    print(\"five\")\n",
    "elif(number==6):\n",
    "    print(\"six\")"
   ]
  },
  {
   "cell_type": "code",
   "execution_count": 11,
   "id": "64bf52e6",
   "metadata": {},
   "outputs": [
    {
     "ename": "SyntaxError",
     "evalue": "invalid syntax (<ipython-input-11-3362ce2ab7ca>, line 2)",
     "output_type": "error",
     "traceback": [
      "\u001b[1;36m  File \u001b[1;32m\"<ipython-input-11-3362ce2ab7ca>\"\u001b[1;36m, line \u001b[1;32m2\u001b[0m\n\u001b[1;33m    match number:\u001b[0m\n\u001b[1;37m          ^\u001b[0m\n\u001b[1;31mSyntaxError\u001b[0m\u001b[1;31m:\u001b[0m invalid syntax\n"
     ]
    }
   ],
   "source": [
    "number=int(input())\n",
    "match number:\n",
    "    case 1:\n",
    "        print(\"hello\")\n",
    "    case 2:\n",
    "        print(\"hi\")\n",
    "    case default:\n",
    "        print(\"none\")"
   ]
  },
  {
   "cell_type": "code",
   "execution_count": 16,
   "id": "f173883c",
   "metadata": {},
   "outputs": [
    {
     "name": "stdout",
     "output_type": "stream",
     "text": [
      "enter marks78\n",
      "a\n"
     ]
    }
   ],
   "source": [
    "marks=int(input(\"enter marks\"))\n",
    "if(marks>91 and marks<100):\n",
    "    print(\"O\")\n",
    "elif(marks>81 and marks<90):\n",
    "    print(\"s\")\n",
    "elif(marks>71 and marks<80):\n",
    "    print(\"a\")\n"
   ]
  },
  {
   "cell_type": "code",
   "execution_count": 15,
   "id": "51c57ee8",
   "metadata": {},
   "outputs": [
    {
     "name": "stdout",
     "output_type": "stream",
     "text": [
      "enter marks76\n",
      "A\n"
     ]
    }
   ],
   "source": [
    "marks=int(input(\"enter marks\"))\n",
    "if(marks>70):\n",
    "    if(marks>80):\n",
    "        if(marks>90):\n",
    "            print(\"o\")\n",
    "        else:\n",
    "            print(\"s\")\n",
    "    else:\n",
    "        print(\"A\")\n",
    "else:\n",
    "    print(\"fail\")"
   ]
  },
  {
   "cell_type": "code",
   "execution_count": 19,
   "id": "f1995622",
   "metadata": {},
   "outputs": [
    {
     "name": "stdout",
     "output_type": "stream",
     "text": [
      "a\n",
      "vowels\n"
     ]
    }
   ],
   "source": [
    "character=input()\n",
    "if(character=='a'or character=='e'or character=='i'or character=='o'or character=='u'):\n",
    "    print(\"vowels\")\n",
    "else:\n",
    "    print(\"consonent\")\n",
    "    "
   ]
  },
  {
   "cell_type": "code",
   "execution_count": 21,
   "id": "b13d8a34",
   "metadata": {},
   "outputs": [
    {
     "name": "stdout",
     "output_type": "stream",
     "text": [
      "W\n",
      "87\n"
     ]
    }
   ],
   "source": [
    "ch=input()\n",
    "print(ord(ch))"
   ]
  },
  {
   "cell_type": "code",
   "execution_count": 22,
   "id": "32c6c9b6",
   "metadata": {},
   "outputs": [
    {
     "name": "stdout",
     "output_type": "stream",
     "text": [
      "89\n",
      "Y\n"
     ]
    }
   ],
   "source": [
    "ch=int(input())\n",
    "print(chr(ch))"
   ]
  },
  {
   "cell_type": "code",
   "execution_count": 25,
   "id": "8c2a3f7a",
   "metadata": {},
   "outputs": [
    {
     "name": "stdout",
     "output_type": "stream",
     "text": [
      "2\n",
      "0b10\n"
     ]
    }
   ],
   "source": [
    "ch=int(input())\n",
    "print(bin(ch))"
   ]
  },
  {
   "cell_type": "code",
   "execution_count": 30,
   "id": "d890bc85",
   "metadata": {},
   "outputs": [
    {
     "name": "stdout",
     "output_type": "stream",
     "text": [
      "w\n",
      "<built-in method swapcase of str object at 0x000001FBBBA40AF0>\n"
     ]
    }
   ],
   "source": [
    "ch=input()\n",
    "print(ch.swapcase)"
   ]
  },
  {
   "cell_type": "code",
   "execution_count": 3,
   "id": "3500ead4",
   "metadata": {},
   "outputs": [
    {
     "name": "stdout",
     "output_type": "stream",
     "text": [
      "n\n",
      "N\n"
     ]
    }
   ],
   "source": [
    "val=input()\n",
    "if(val>='A' and val<='Z'):\n",
    "    val=chr(ord(val)+32)\n",
    "else:\n",
    "    val=chr(ord(val)-32)\n",
    "print(val)"
   ]
  },
  {
   "cell_type": "code",
   "execution_count": 4,
   "id": "5e20419c",
   "metadata": {},
   "outputs": [
    {
     "name": "stdout",
     "output_type": "stream",
     "text": [
      "9\n"
     ]
    }
   ],
   "source": [
    "print(~-10)"
   ]
  },
  {
   "cell_type": "code",
   "execution_count": 5,
   "id": "ff527e65",
   "metadata": {},
   "outputs": [
    {
     "name": "stdout",
     "output_type": "stream",
     "text": [
      "-11\n"
     ]
    }
   ],
   "source": [
    "print(~10)"
   ]
  },
  {
   "cell_type": "code",
   "execution_count": 8,
   "id": "6ef6b1a4",
   "metadata": {},
   "outputs": [
    {
     "name": "stdout",
     "output_type": "stream",
     "text": [
      "0\n",
      "1\n",
      "2\n",
      "3\n",
      "4\n",
      "5\n",
      "6\n",
      "7\n",
      "8\n",
      "9\n",
      "10\n"
     ]
    }
   ],
   "source": [
    "i=0\n",
    "while(i<=10):\n",
    "    print(i)\n",
    "    i+=1"
   ]
  },
  {
   "cell_type": "code",
   "execution_count": 1,
   "id": "d62c147e",
   "metadata": {},
   "outputs": [
    {
     "name": "stdout",
     "output_type": "stream",
     "text": [
      "10\n",
      "9\n",
      "8\n",
      "7\n",
      "6\n",
      "5\n",
      "4\n",
      "3\n",
      "2\n",
      "1\n"
     ]
    }
   ],
   "source": [
    "i=10\n",
    "while(i>0):\n",
    "    print(i)\n",
    "    i-=1"
   ]
  },
  {
   "cell_type": "code",
   "execution_count": 2,
   "id": "7c7ba36c",
   "metadata": {},
   "outputs": [
    {
     "name": "stdout",
     "output_type": "stream",
     "text": [
      "20\n",
      "20\n",
      "19\n",
      "18\n",
      "17\n",
      "16\n",
      "15\n",
      "14\n",
      "13\n",
      "12\n",
      "11\n",
      "10\n",
      "9\n",
      "8\n",
      "7\n",
      "6\n",
      "5\n",
      "4\n",
      "3\n",
      "2\n",
      "1\n"
     ]
    }
   ],
   "source": [
    "i=int(input())\n",
    "while(i>0):\n",
    "    print(i)\n",
    "    i-=1"
   ]
  },
  {
   "cell_type": "code",
   "execution_count": 5,
   "id": "660b775c",
   "metadata": {},
   "outputs": [
    {
     "name": "stdout",
     "output_type": "stream",
     "text": [
      "{1: 1, 3: 27, 5: 125, 7: 343, 9: 729}\n"
     ]
    }
   ],
   "source": [
    "#calculate cube of odd no using for loop in range 10\n",
    "print({x:x**3 for x in range(10) if x%2==1})\n",
    "    "
   ]
  },
  {
   "cell_type": "code",
   "execution_count": 20,
   "id": "fecc4d52",
   "metadata": {},
   "outputs": [
    {
     "name": "stdout",
     "output_type": "stream",
     "text": [
      "76.0\n"
     ]
    }
   ],
   "source": [
    "sum=0\n",
    "for i in range(1,5):\n",
    "    sum=sum+float(i**i/i)\n",
    "print(sum)"
   ]
  },
  {
   "cell_type": "code",
   "execution_count": 21,
   "id": "6a0f2a00",
   "metadata": {},
   "outputs": [
    {
     "name": "stdout",
     "output_type": "stream",
     "text": [
      "100\n"
     ]
    }
   ],
   "source": [
    "class abc: \n",
    "    var=100  #class variable \n",
    "obj=abc() #main program\n",
    "print(obj.var) #accessing var from the class"
   ]
  },
  {
   "cell_type": "code",
   "execution_count": 1,
   "id": "d3a02e17",
   "metadata": {},
   "outputs": [
    {
     "name": "stdout",
     "output_type": "stream",
     "text": [
      "enter any number371\n",
      "not an armstrong\n"
     ]
    }
   ],
   "source": [
    "n=int(input(\"enter any number\"))\n",
    "s=0\n",
    "while (n>0):\n",
    "    r=n%10\n",
    "    s=s+(r*r*r)\n",
    "    n=n/10\n",
    "if n==s:\n",
    "    print(\"armstrong\")\n",
    "else:\n",
    "    print(\"not an armstrong\")"
   ]
  },
  {
   "cell_type": "code",
   "execution_count": 27,
   "id": "e60df5ba",
   "metadata": {},
   "outputs": [
    {
     "name": "stdout",
     "output_type": "stream",
     "text": [
      "100\n",
      "nikhitha\n"
     ]
    }
   ],
   "source": [
    "class abc: \n",
    "    var=100  #class variable \n",
    "    def display(self):\n",
    "        print(\"nikhitha\")\n",
    "obj=abc() #main program\n",
    "print(obj.var)\n",
    "obj.display()"
   ]
  },
  {
   "cell_type": "code",
   "execution_count": 2,
   "id": "f8678c74",
   "metadata": {},
   "outputs": [
    {
     "name": "stdout",
     "output_type": "stream",
     "text": [
      "the passed arg from main 10\n"
     ]
    }
   ],
   "source": [
    "class abc:\n",
    "    def __init__(self,val):\n",
    "        self.val=val\n",
    "        print(\"the passed arg from main\",val)\n",
    "obj=abc(10)"
   ]
  },
  {
   "cell_type": "code",
   "execution_count": 6,
   "id": "70569b8f",
   "metadata": {},
   "outputs": [
    {
     "name": "stdout",
     "output_type": "stream",
     "text": [
      "2 is even\n"
     ]
    }
   ],
   "source": [
    "class number:\n",
    "    even=0\n",
    "    def check(self,num):\n",
    "        if num%2==0:\n",
    "            self.even=1\n",
    "    def e_o(self,num):\n",
    "        self.check(num)\n",
    "        if self.even==1:\n",
    "            print(num,\"is even\")\n",
    "        else:\n",
    "            print(num,\"is odd\")\n",
    "n=number()\n",
    "n.e_o(2)"
   ]
  },
  {
   "cell_type": "code",
   "execution_count": 24,
   "id": "ed97228c",
   "metadata": {},
   "outputs": [
    {
     "name": "stdout",
     "output_type": "stream",
     "text": [
      "[32, 44, 66]\n",
      "[21, 35]\n"
     ]
    }
   ],
   "source": [
    "#find mutable atraibtes by taking a class of numbers to pass random 5 numbers to class and segratate then into odd and even list separately\n",
    "class number:\n",
    "    evenlist=[]\n",
    "    oddlist=[]\n",
    "    def __init__(self,num):\n",
    "        self.num=num\n",
    "        if num%2==0:\n",
    "            number.evenlist.append(num)\n",
    "        else:\n",
    "            number.oddlist.append(num)      \n",
    "        #return evenlist,oddlist\n",
    "n1=number(21)\n",
    "n2=number(32)\n",
    "n3=number(44)\n",
    "n4=number(35)\n",
    "n5=number(66)\n",
    "print(number.evenlist)\n",
    "print(number.oddlist)"
   ]
  },
  {
   "cell_type": "code",
   "execution_count": 15,
   "id": "95e4ac27",
   "metadata": {},
   "outputs": [
    {
     "name": "stdout",
     "output_type": "stream",
     "text": [
      "123\n",
      "3\n"
     ]
    }
   ],
   "source": [
    "num=int(input())\n",
    "def num_of_digits(num):\n",
    "    count=0\n",
    "    while(num>0):\n",
    "        num=num//10\n",
    "        count+=1\n",
    "    return count\n",
    "print(num_of_digits(num))"
   ]
  },
  {
   "cell_type": "code",
   "execution_count": 17,
   "id": "2188797e",
   "metadata": {},
   "outputs": [
    {
     "name": "stdout",
     "output_type": "stream",
     "text": [
      "123\n",
      "321\n"
     ]
    }
   ],
   "source": [
    "n=int(input())\n",
    "def function(n):\n",
    "    reverse=0\n",
    "    while(n>0):\n",
    "        x=n%10\n",
    "        reverse=reverse*10+x\n",
    "        n=n//10\n",
    "    return reverse\n",
    "print(function(n))"
   ]
  },
  {
   "cell_type": "code",
   "execution_count": 22,
   "id": "9f7394d0",
   "metadata": {},
   "outputs": [
    {
     "name": "stdout",
     "output_type": "stream",
     "text": [
      "456\n",
      "654\n",
      "not a palindrome\n"
     ]
    }
   ],
   "source": [
    "n=int(input())\n",
    "def function(n):\n",
    "    reverse=0\n",
    "    while(n>0):\n",
    "        x=n%10\n",
    "        reverse=reverse*10+x\n",
    "        n=n//10\n",
    "    return reverse\n",
    "m=function(n)\n",
    "print(m)\n",
    "if(m==n):\n",
    "    print(\"palindrome\")\n",
    "else:\n",
    "    print(\"not a palindrome\")\n"
   ]
  },
  {
   "cell_type": "markdown",
   "id": "06eeaa3e",
   "metadata": {},
   "source": []
  },
  {
   "cell_type": "code",
   "execution_count": 25,
   "id": "b58e17ae",
   "metadata": {},
   "outputs": [
    {
     "name": "stdout",
     "output_type": "stream",
     "text": [
      "454\n",
      "palinfrome\n"
     ]
    }
   ],
   "source": [
    "n=int(input())\n",
    "def rev(n):\n",
    "    reverse=0\n",
    "    while(n>0):\n",
    "        x=n%10\n",
    "        reverse=reverse*10+x\n",
    "        n=n//10\n",
    "    return reverse\n",
    "def palindrome(n):\n",
    "    if(n==rev(n)):\n",
    "        print(\"palinfrome\")\n",
    "    else:\n",
    "        print(\"not a palindrome\")\n",
    "palindrome(n)"
   ]
  },
  {
   "cell_type": "code",
   "execution_count": 2,
   "id": "e983e893",
   "metadata": {},
   "outputs": [
    {
     "name": "stdout",
     "output_type": "stream",
     "text": [
      "153\n",
      "armstrong\n"
     ]
    }
   ],
   "source": [
    "num=int(input())\n",
    "\n",
    "def num_of_digits(num):\n",
    "    count=0\n",
    "    while(num>0):\n",
    "        num=num//10\n",
    "        count+=1\n",
    "    return count\n",
    "def armstrong(num):\n",
    "    sum=0\n",
    "    c=num_of_digits(num)\n",
    "    while (num>0):\n",
    "        r=num%10\n",
    "        sum=sum+(r**c)\n",
    "        num=num//10\n",
    "    return sum\n",
    "def arm(num):\n",
    "    if (num==armstrong(num)):\n",
    "        print(\"armstrong\")\n",
    "    else:\n",
    "        print(\"not an armstrong\")\n",
    "arm(num)"
   ]
  },
  {
   "cell_type": "code",
   "execution_count": 3,
   "id": "972ffbb2",
   "metadata": {},
   "outputs": [
    {
     "name": "stdout",
     "output_type": "stream",
     "text": [
      "123\n",
      "6\n"
     ]
    }
   ],
   "source": [
    "num=int(input())\n",
    "def sum_of_digits(num):\n",
    "    sum=0\n",
    "    while(num>0):\n",
    "        r=num%10\n",
    "        sum=sum+r\n",
    "        num=num//10\n",
    "    return sum\n",
    "print(sum_of_digits(num))"
   ]
  },
  {
   "cell_type": "code",
   "execution_count": 4,
   "id": "b6fb01c8",
   "metadata": {},
   "outputs": [
    {
     "ename": "SyntaxError",
     "evalue": "unexpected EOF while parsing (<ipython-input-4-95c19e22eec7>, line 2)",
     "output_type": "error",
     "traceback": [
      "\u001b[1;36m  File \u001b[1;32m\"<ipython-input-4-95c19e22eec7>\"\u001b[1;36m, line \u001b[1;32m2\u001b[0m\n\u001b[1;33m    \u001b[0m\n\u001b[1;37m    ^\u001b[0m\n\u001b[1;31mSyntaxError\u001b[0m\u001b[1;31m:\u001b[0m unexpected EOF while parsing\n"
     ]
    }
   ],
   "source": [
    "class magic_check():\n",
    "    "
   ]
  },
  {
   "cell_type": "code",
   "execution_count": 13,
   "id": "e207e99f",
   "metadata": {},
   "outputs": [
    {
     "name": "stdout",
     "output_type": "stream",
     "text": [
      "aate\n",
      "bate\n",
      "cate\n",
      "date\n"
     ]
    }
   ],
   "source": [
    "str1=\"abcd\"\n",
    "str2=\"ate\"\n",
    "for i in str1:\n",
    "    print(i+str2)"
   ]
  },
  {
   "cell_type": "code",
   "execution_count": 8,
   "id": "9e2daa3a",
   "metadata": {},
   "outputs": [
    {
     "name": "stdout",
     "output_type": "stream",
     "text": [
      "12\n",
      "21\n",
      "144\n",
      "441\n",
      "144\n"
     ]
    }
   ],
   "source": [
    "n=int(input())\n",
    "def rev(n):\n",
    "    reverse=0\n",
    "    while(n>0):\n",
    "        x=n%10\n",
    "        reverse=reverse*10+x\n",
    "        n=n//10\n",
    "    return reverse\n",
    "def firstno(n):\n",
    "    square1=n*n\n",
    "    return square1\n",
    "def secondno(n):\n",
    "    s=rev(n)\n",
    "    square2=s*s\n",
    "    return square2\n",
    "def check(n):\n",
    "    a=secondno(n)\n",
    "    b=rev(a)\n",
    "    return b\n",
    "print(rev(n))\n",
    "print(firstno(n))\n",
    "print(secondno(n))\n",
    "print(check(n))"
   ]
  },
  {
   "cell_type": "code",
   "execution_count": 10,
   "id": "36e35028",
   "metadata": {},
   "outputs": [
    {
     "name": "stdout",
     "output_type": "stream",
     "text": [
      "obj value 11\n",
      "class value 1\n",
      "obj value 12\n",
      "class value 2\n",
      "obj value 13\n",
      "class value 3\n"
     ]
    }
   ],
   "source": [
    "class abc():\n",
    "    class_var=0\n",
    "    def __init__(self,var):\n",
    "        \n",
    "        abc.class_var+=1\n",
    "        self.var=var\n",
    "        print('obj value',var)\n",
    "        print('class value',abc.class_var)\n",
    "obj1=abc(11)\n",
    "obj1=abc(12)\n",
    "obj1=abc(13)"
   ]
  },
  {
   "cell_type": "code",
   "execution_count": 19,
   "id": "394d5f90",
   "metadata": {},
   "outputs": [
    {
     "name": "stdout",
     "output_type": "stream",
     "text": [
      "obj value 11\n",
      "class value 1\n",
      "obj value 12\n",
      "class value 2\n",
      "obj value 13\n",
      "class value 3\n",
      "obj value 11 out of scope\n",
      "obj value 12 out of scope\n",
      "obj value 13 out of scope\n"
     ]
    }
   ],
   "source": [
    "class abc():\n",
    "    class_var=0\n",
    "    def __init__(self,var):\n",
    "        \n",
    "        abc.class_var+=1\n",
    "        self.var=var\n",
    "        print('obj value',var)\n",
    "        print('class value',abc.class_var)\n",
    "    def __del__(self):\n",
    "        abc.class_var-=1\n",
    "        print(\"obj value %d out of scope\" %self.var)\n",
    "obj1=abc(11)\n",
    "obj2=abc(12)\n",
    "obj3=abc(13)\n",
    "del obj1\n",
    "del obj2\n",
    "del obj3"
   ]
  },
  {
   "cell_type": "code",
   "execution_count": 20,
   "id": "36a85f3b",
   "metadata": {},
   "outputs": [
    {
     "name": "stdout",
     "output_type": "stream",
     "text": [
      "enter lenght10\n",
      "enter breadth2\n",
      "length= 10 \tbreadth= 2\n",
      "area= 20\n"
     ]
    }
   ],
   "source": [
    "class rectangle():\n",
    "    def get_data(self):\n",
    "        rectangle.l=int(input('enter lenght'))\n",
    "        rectangle.b=int(input('enter breadth'))\n",
    "    def show_data(self):\n",
    "        print('length=',rectangle.l,'\\tbreadth=',rectangle.b)\n",
    "    def area(self):\n",
    "        print('area=',rectangle.l*rectangle.b)\n",
    "rect=rectangle()\n",
    "rect.get_data()\n",
    "rect. show_data()\n",
    "rect.area()"
   ]
  },
  {
   "cell_type": "code",
   "execution_count": 23,
   "id": "07c497a4",
   "metadata": {},
   "outputs": [
    {
     "name": "stdout",
     "output_type": "stream",
     "text": [
      "enter lenght3\n",
      "radius= 3\n",
      "area= 28.259999999999998\n",
      "cicum= 18.84\n"
     ]
    }
   ],
   "source": [
    "class circle():\n",
    "    pi=3.14\n",
    "    def get_data(self):\n",
    "        circle.r=int(input('enter lenght'))\n",
    "    def show_data(self):\n",
    "        print('radius=',circle.r)\n",
    "    def area(self):\n",
    "        print('area=',circle.pi*circle.r*circle.r)\n",
    "    def circum(self):\n",
    "        print('cicum=',circle.pi*circle.r*2)   \n",
    "c=circle()\n",
    "c.get_data()\n",
    "c.show_data()\n",
    "c.area()\n",
    "c.circum()\n",
    "\n",
    "      "
   ]
  },
  {
   "cell_type": "code",
   "execution_count": 25,
   "id": "0ef9a949",
   "metadata": {},
   "outputs": [
    {
     "name": "stdout",
     "output_type": "stream",
     "text": [
      "area 176.625\n",
      "circumference 47.1\n"
     ]
    }
   ],
   "source": [
    "class circle():\n",
    "    pi=3.14\n",
    "    def __init__(self,radius):\n",
    "        self.radius=radius\n",
    "    def area(self):\n",
    "        return circle.pi*self.radius*self.radius\n",
    "    def cir(self):\n",
    "        return 2*circle.pi*self.radius\n",
    "c=circle(7.5)\n",
    "print(\"area\",c.area())\n",
    "print(\"circumference\",c.cir())"
   ]
  },
  {
   "cell_type": "code",
   "execution_count": 29,
   "id": "c29c4944",
   "metadata": {},
   "outputs": [
    {
     "name": "stdout",
     "output_type": "stream",
     "text": [
      "the value stored object 10\n",
      "lenth 6\n",
      "second value is smaller\n"
     ]
    }
   ],
   "source": [
    "class abc():\n",
    "    def __init__(self,name,var):\n",
    "        self.name=name\n",
    "        self.var=var\n",
    "    def __repr__(self):\n",
    "        return repr(self.var)\n",
    "    def __len__(self):\n",
    "        return len(self.name)\n",
    "    def __cmp__(self,obj):\n",
    "        return self.var -obj.var\n",
    "obj=abc(\"abcdef\",10)\n",
    "print(\"the value stored object\",repr(obj))\n",
    "print(\"lenth\",len(obj))\n",
    "obj1=abc(\"ghijkl\",1)\n",
    "val=obj.__cmp__(obj1)\n",
    "if val==0:\n",
    "    print(\"eql\")\n",
    "elif val==-1:\n",
    "    print(\"1st value is smaller\")\n",
    "else:\n",
    "    print(\"second value is smaller\")"
   ]
  },
  {
   "cell_type": "code",
   "execution_count": 1,
   "id": "63877392",
   "metadata": {},
   "outputs": [
    {
     "name": "stdout",
     "output_type": "stream",
     "text": [
      "36\n",
      "6.0\n"
     ]
    }
   ],
   "source": [
    "n=int(input())\n",
    "s=n**(1/2)\n",
    "print(s)"
   ]
  },
  {
   "cell_type": "code",
   "execution_count": 2,
   "id": "33d35179",
   "metadata": {},
   "outputs": [
    {
     "name": "stdout",
     "output_type": "stream",
     "text": [
      "{'num': 10}\n",
      "{'num': 10, 'helo': 5}\n",
      "{'helo': 5}\n"
     ]
    }
   ],
   "source": [
    "class square_root:\n",
    "    def __init__(self,num):\n",
    "        self.num=num\n",
    "s=square_root(10)\n",
    "print(s.__dict__)\n",
    "s.helo=5\n",
    "print(s.__dict__)\n",
    "del s.num\n",
    "print(s.__dict__)"
   ]
  },
  {
   "cell_type": "code",
   "execution_count": 17,
   "id": "4ed2fe39",
   "metadata": {},
   "outputs": [
    {
     "name": "stdout",
     "output_type": "stream",
     "text": [
      "(20, 40)\n",
      "(0, 0)\n"
     ]
    }
   ],
   "source": [
    "class cooridinates:\n",
    "    def __init__(self,num1,num2):\n",
    "        self.num1=num1\n",
    "        self.num2=num2\n",
    "    def __add__(self,obj):\n",
    "        first=self.num1+obj.num1\n",
    "        second=self.num2+obj.num2\n",
    "        return(first,second)\n",
    "    def __sub__(self,obj):\n",
    "        first=abs(self.num1-obj.num1)\n",
    "        second=abs(self.num2-obj.num2)\n",
    "        return(first,second)\n",
    "    \n",
    "c1=cooridinates(10,20)  \n",
    "c2=cooridinates(10,20) \n",
    "print(c1+c2)\n",
    "print(c1-c2)"
   ]
  },
  {
   "cell_type": "code",
   "execution_count": 22,
   "id": "1e07d54e",
   "metadata": {},
   "outputs": [
    {
     "ename": "TypeError",
     "evalue": "__init__() missing 1 required positional argument: 'str2'",
     "output_type": "error",
     "traceback": [
      "\u001b[1;31m---------------------------------------------------------------------------\u001b[0m",
      "\u001b[1;31mTypeError\u001b[0m                                 Traceback (most recent call last)",
      "\u001b[1;32m<ipython-input-22-d9e2e09b8f8d>\u001b[0m in \u001b[0;36m<module>\u001b[1;34m\u001b[0m\n\u001b[0;32m      6\u001b[0m         \u001b[1;32mreturn\u001b[0m \u001b[0mself\u001b[0m\u001b[1;33m.\u001b[0m\u001b[0mstr1\u001b[0m \u001b[1;33m-\u001b[0m\u001b[0mobj\u001b[0m\u001b[1;33m.\u001b[0m\u001b[0mstr2\u001b[0m\u001b[1;33m\u001b[0m\u001b[1;33m\u001b[0m\u001b[0m\n\u001b[0;32m      7\u001b[0m \u001b[1;33m\u001b[0m\u001b[0m\n\u001b[1;32m----> 8\u001b[1;33m \u001b[0mobj1\u001b[0m\u001b[1;33m=\u001b[0m\u001b[0mabc\u001b[0m\u001b[1;33m(\u001b[0m\u001b[1;34m\"hello\"\u001b[0m\u001b[1;33m)\u001b[0m\u001b[1;33m\u001b[0m\u001b[1;33m\u001b[0m\u001b[0m\n\u001b[0m\u001b[0;32m      9\u001b[0m \u001b[0mobj2\u001b[0m\u001b[1;33m=\u001b[0m\u001b[0mabc\u001b[0m\u001b[1;33m(\u001b[0m\u001b[1;34m\"hi\"\u001b[0m\u001b[1;33m)\u001b[0m\u001b[1;33m\u001b[0m\u001b[1;33m\u001b[0m\u001b[0m\n\u001b[0;32m     10\u001b[0m \u001b[0mval\u001b[0m\u001b[1;33m=\u001b[0m\u001b[0mobj\u001b[0m\u001b[1;33m.\u001b[0m\u001b[0m__cmp__\u001b[0m\u001b[1;33m(\u001b[0m\u001b[0mobj1\u001b[0m\u001b[1;33m)\u001b[0m\u001b[1;33m\u001b[0m\u001b[1;33m\u001b[0m\u001b[0m\n",
      "\u001b[1;31mTypeError\u001b[0m: __init__() missing 1 required positional argument: 'str2'"
     ]
    }
   ],
   "source": [
    "class abc():\n",
    "    def __init__(self,str1,str2):\n",
    "        self.str1=str1\n",
    "        self.str2=str2\n",
    "    def __cmp__(self,obj):\n",
    "        return self.str1 -obj.str2\n",
    "        \n",
    "obj1=abc(\"hello\")\n",
    "obj2=abc(\"hi\")\n",
    "val=obj.__cmp__(obj1)\n",
    "if val==0:\n",
    "    print(\"eql\")\n",
    "else:\n",
    "    print(\"not equal\")"
   ]
  },
  {
   "cell_type": "code",
   "execution_count": 24,
   "id": "0efb581f",
   "metadata": {},
   "outputs": [
    {
     "name": "stdout",
     "output_type": "stream",
     "text": [
      "False\n"
     ]
    }
   ],
   "source": [
    "class strings():\n",
    "    def __init__(self,st):\n",
    "        self.st=st  \n",
    "    def __gt__(self,obj):\n",
    "        return self.st>obj.st\n",
    "obj1=strings(\"hello\")\n",
    "obj2=strings(\"world\")\n",
    "print(obj1>obj2)"
   ]
  },
  {
   "cell_type": "code",
   "execution_count": 31,
   "id": "0b6b0bcc",
   "metadata": {},
   "outputs": [
    {
     "name": "stdout",
     "output_type": "stream",
     "text": [
      "False\n"
     ]
    }
   ],
   "source": [
    "class strings():\n",
    "    def __init__(self,st):\n",
    "        self.st=st  \n",
    "    def __eq__(self,obj):\n",
    "        return self.st==obj.st\n",
    "obj1=strings(\"hello\")\n",
    "obj2=strings(\"ello\")\n",
    "print(obj1==obj2)"
   ]
  },
  {
   "cell_type": "code",
   "execution_count": 34,
   "id": "95acf9ed",
   "metadata": {},
   "outputs": [
    {
     "name": "stdout",
     "output_type": "stream",
     "text": [
      "[1, 2, 3, 4]\n",
      "[1, 2, 3, 10]\n"
     ]
    }
   ],
   "source": [
    "class numbers():\n",
    "    def __init__(self,lis):\n",
    "        self.mylist=lis\n",
    "    def display(self):\n",
    "        print(self.mylist)\n",
    "    def __getitem__(self,index):\n",
    "        return self.mylist[index]\n",
    "    def __setitem__(self,index,val):\n",
    "        self.mylist[index]=val\n",
    "\n",
    "num=numbers([1,2,3,4])\n",
    "num.display()\n",
    "num[3]=10\n",
    "num.display()"
   ]
  },
  {
   "cell_type": "code",
   "execution_count": 63,
   "id": "f8b57b2a",
   "metadata": {},
   "outputs": [
    {
     "name": "stdout",
     "output_type": "stream",
     "text": [
      "15\n",
      "True\n",
      "10\n",
      "None\n",
      "90\n"
     ]
    },
    {
     "ename": "AttributeError",
     "evalue": "'values' object has no attribute 'num1'",
     "output_type": "error",
     "traceback": [
      "\u001b[1;31m---------------------------------------------------------------------------\u001b[0m",
      "\u001b[1;31mAttributeError\u001b[0m                            Traceback (most recent call last)",
      "\u001b[1;32m<ipython-input-63-da8473a403f4>\u001b[0m in \u001b[0;36m<module>\u001b[1;34m\u001b[0m\n\u001b[0;32m     11\u001b[0m \u001b[0mprint\u001b[0m\u001b[1;33m(\u001b[0m\u001b[0mgetattr\u001b[0m\u001b[1;33m(\u001b[0m\u001b[0mOb\u001b[0m\u001b[1;33m,\u001b[0m\u001b[1;34m'num4'\u001b[0m\u001b[1;33m)\u001b[0m\u001b[1;33m)\u001b[0m\u001b[1;33m\u001b[0m\u001b[1;33m\u001b[0m\u001b[0m\n\u001b[0;32m     12\u001b[0m \u001b[0mdelattr\u001b[0m\u001b[1;33m(\u001b[0m\u001b[0mOb\u001b[0m\u001b[1;33m,\u001b[0m\u001b[1;34m'num1'\u001b[0m\u001b[1;33m)\u001b[0m\u001b[1;33m\u001b[0m\u001b[1;33m\u001b[0m\u001b[0m\n\u001b[1;32m---> 13\u001b[1;33m \u001b[0mprint\u001b[0m\u001b[1;33m(\u001b[0m\u001b[0mOb\u001b[0m\u001b[1;33m.\u001b[0m\u001b[0mnum1\u001b[0m\u001b[1;33m)\u001b[0m\u001b[1;33m\u001b[0m\u001b[1;33m\u001b[0m\u001b[0m\n\u001b[0m",
      "\u001b[1;31mAttributeError\u001b[0m: 'values' object has no attribute 'num1'"
     ]
    }
   ],
   "source": [
    "class values():\n",
    "    def __init__(self,n1,n2):\n",
    "        self.num1=n1\n",
    "        self.num2=n2\n",
    "Ob=values(10,20)\n",
    "Ob.num3=15\n",
    "print(Ob.num3)\n",
    "print(hasattr(Ob,'num3'))\n",
    "print(getattr(Ob,'num1'))\n",
    "print(setattr(Ob,'num4',90))\n",
    "print(getattr(Ob,'num4'))\n",
    "delattr(Ob,'num1')\n",
    "print(Ob.num1)"
   ]
  },
  {
   "cell_type": "code",
   "execution_count": 50,
   "id": "8f44d3b9",
   "metadata": {},
   "outputs": [
    {
     "name": "stdout",
     "output_type": "stream",
     "text": [
      "False\n"
     ]
    }
   ],
   "source": [
    "class values():\n",
    "    def __init__(self,n1,n2):\n",
    "        self.num1=n1\n",
    "        self.num2=n2\n",
    "Ob=values(10,20)\n",
    "print(hasattr(Ob,'num3'))"
   ]
  },
  {
   "cell_type": "code",
   "execution_count": 69,
   "id": "e9a94581",
   "metadata": {},
   "outputs": [
    {
     "name": "stdout",
     "output_type": "stream",
     "text": [
      "10\n",
      "15\n",
      "16\n"
     ]
    }
   ],
   "source": [
    "class values():\n",
    "    def __init__(self,n1=10):\n",
    "        self.num1=n1 #public variable\n",
    "        self._num2=15 #protected variable\n",
    "        self.__num3=16 #priavte variable accesed within the method\n",
    "ob=values()\n",
    "print(ob.num1)\n",
    "print(ob._num2)\n",
    "print(ob._values__num3)"
   ]
  },
  {
   "cell_type": "code",
   "execution_count": 7,
   "id": "62cf700d",
   "metadata": {},
   "outputs": [
    {
     "name": "stdout",
     "output_type": "stream",
     "text": [
      "* \n",
      "\n",
      "* * \n",
      "\n",
      "* * * \n",
      "\n",
      "* * * * \n",
      "\n"
     ]
    }
   ],
   "source": [
    "n=4\n",
    "for i in range(n):\n",
    "    for j in range(i+1):\n",
    "        print('*',end =' ')\n",
    "    print(\"\\n\")"
   ]
  },
  {
   "cell_type": "code",
   "execution_count": 8,
   "id": "569c6112",
   "metadata": {},
   "outputs": [
    {
     "name": "stdout",
     "output_type": "stream",
     "text": [
      "1 \n",
      "\n",
      "1 2 \n",
      "\n",
      "1 2 3 \n",
      "\n",
      "1 2 3 4 \n",
      "\n"
     ]
    }
   ],
   "source": [
    "n=4\n",
    "for i in range(n):\n",
    "    for j in range(i+1):\n",
    "        print(j+1,end =' ')\n",
    "    print(\"\\n\")"
   ]
  },
  {
   "cell_type": "code",
   "execution_count": 17,
   "id": "941cf4dc",
   "metadata": {},
   "outputs": [
    {
     "name": "stdout",
     "output_type": "stream",
     "text": [
      "*           \n",
      "\n",
      "* *         \n",
      "\n",
      "*   *       \n",
      "\n",
      "*     *     \n",
      "\n",
      "*       *   \n",
      "\n",
      "* * * * * * \n",
      "\n"
     ]
    }
   ],
   "source": [
    "n=6\n",
    "for i in range(1,n+1):\n",
    "    for j in range(1,n+1):\n",
    "        if i==j or i==n or j==1:\n",
    "            print('*',end =' ')\n",
    "        else:\n",
    "            print(\" \",end=' ')\n",
    "    print(\"\\n\")"
   ]
  },
  {
   "cell_type": "code",
   "execution_count": 23,
   "id": "bc2ac8d7",
   "metadata": {},
   "outputs": [
    {
     "name": "stdout",
     "output_type": "stream",
     "text": [
      " ♥ ♥  ♥ ♥  \n",
      "♥   ♥   ♥ \n",
      "♥      ♥ \n",
      " ♥    ♥  \n",
      "  ♥  ♥   \n",
      "   ♥    \n"
     ]
    }
   ],
   "source": [
    "for row in range(6):  \n",
    "    for col in range(7):  \n",
    "        if (row==0 and col %3 !=0)or(row==1 and col %3==0) or(row-col==2) or(row+col==8):  \n",
    "            print(\"\\u2665\",end=\" \")  \n",
    "        else:  \n",
    "            print(end=\" \")  \n",
    "    print()"
   ]
  },
  {
   "cell_type": "code",
   "execution_count": 28,
   "id": "a6c99be7",
   "metadata": {},
   "outputs": [
    {
     "name": "stdout",
     "output_type": "stream",
     "text": [
      "var= 10\n",
      "var= 100\n"
     ]
    }
   ],
   "source": [
    "def measure(x):\n",
    "    return x*10\n",
    "class abc():\n",
    "    def __init__(self,var):\n",
    "        self.var=var\n",
    "    def display(self):\n",
    "        print(\"var=\",self.var)\n",
    "    def modify(self):\n",
    "        self.var=measure(self.var)\n",
    "        #print(\"reuslt\",self.var)\n",
    "obj=abc(10)\n",
    "obj.display()\n",
    "obj.modify()\n",
    "obj.display()"
   ]
  },
  {
   "cell_type": "code",
   "execution_count": 37,
   "id": "2ce98dda",
   "metadata": {},
   "outputs": [
    {
     "name": "stdout",
     "output_type": "stream",
     "text": [
      "var1= 10\n",
      "var2= 12.34\n",
      "object.__dict__ {'var1': 10, 'var2': 12.34}\n",
      "object.__doc__ None\n",
      "class.__name__ abc\n",
      "object.__module__ __main__\n",
      "class.__bases__ (<class 'object'>,)\n"
     ]
    }
   ],
   "source": [
    "class abc():\n",
    "    def __init__(self,var1,var2):\n",
    "        self.var1=var1\n",
    "        self.var2=var2\n",
    "    def display(self):\n",
    "        print(\"var1=\",self.var1)\n",
    "        print(\"var2=\",self.var2)\n",
    "obj=abc(10,12.34)\n",
    "obj.display()\n",
    "print(\"object.__dict__\",obj.__dict__)\n",
    "print(\"object.__doc__\",obj.__doc__)\n",
    "print(\"class.__name__\",abc.__name__)\n",
    "print(\"object.__module__\",obj.__module__)\n",
    "print(\"class.__bases__\",abc.__bases__)"
   ]
  },
  {
   "cell_type": "code",
   "execution_count": 39,
   "id": "fd819656",
   "metadata": {},
   "outputs": [
    {
     "name": "stdout",
     "output_type": "stream",
     "text": [
      "execution time=0.025249 second\n"
     ]
    }
   ],
   "source": [
    "from time import*\n",
    "t1=perf_counter()\n",
    "i,sum=0,0\n",
    "while i<=100000:\n",
    "    sum+=1\n",
    "    i+=1\n",
    "sleep(0)\n",
    "t2=perf_counter()\n",
    "print('execution time=%f second' %(t2-t1))"
   ]
  },
  {
   "cell_type": "code",
   "execution_count": 40,
   "id": "7319c7fa",
   "metadata": {},
   "outputs": [
    {
     "name": "stdout",
     "output_type": "stream",
     "text": [
      "the value stored object 10\n",
      "lenth 6\n",
      "second value is smaller\n"
     ]
    }
   ],
   "source": [
    "class abc():\n",
    "    def __init__(self,name,var):\n",
    "        self.name=name\n",
    "        self.var=var\n",
    "    def __repr__(self):\n",
    "        return repr(self.var)\n",
    "    def __len__(self):\n",
    "        return len(self.name)\n",
    "    def __cmp__(self,obj):\n",
    "        return self.var -obj.var\n",
    "obj=abc(\"abcdef\",10)\n",
    "print(\"the value stored object\",repr(obj))\n",
    "print(\"lenth\",len(obj))\n",
    "obj1=abc(\"ghijkl\",1)\n",
    "val=obj.__cmp__(obj1)\n",
    "if val==0:\n",
    "    print(\"eql\")\n",
    "elif val==-1:\n",
    "    print(\"1st value is smaller\")\n",
    "else:\n",
    "    print(\"second value is smaller\")"
   ]
  },
  {
   "cell_type": "code",
   "execution_count": 43,
   "id": "956797b8",
   "metadata": {},
   "outputs": [
    {
     "name": "stdout",
     "output_type": "stream",
     "text": [
      "enter elementshello\n",
      "do you wish to enter more elementsy\n",
      "enter elementsnikhi\n",
      "do you wish to enter more elementsn\n",
      "max= 'nikhi'\n"
     ]
    }
   ],
   "source": [
    "class number():\n",
    "    def __init__(self):\n",
    "        self.values=[]\n",
    "    def find_max(self):\n",
    "        max=' '\n",
    "        for i in self.values:\n",
    "            if i>max:\n",
    "                max=i\n",
    "        print('max= %r' %max)\n",
    "    def insert_element(self):\n",
    "        value=input('enter elements')\n",
    "        self.values.append(value)\n",
    "x=number()\n",
    "ch='y'\n",
    "while ch=='y':\n",
    "    x.insert_element()\n",
    "    ch=input('do you wish to enter more elements')\n",
    "x.find_max()"
   ]
  },
  {
   "cell_type": "code",
   "execution_count": 3,
   "id": "9bb82222",
   "metadata": {},
   "outputs": [
    {
     "name": "stdout",
     "output_type": "stream",
     "text": [
      "lenin\n"
     ]
    }
   ],
   "source": [
    "n=156\n",
    "s=0\n",
    "while n>0:\n",
    "    r=n%10\n",
    "    s+=r\n",
    "    n=n//10\n",
    "if n%s==0:\n",
    "    print(\"lenin\")\n",
    "else:\n",
    "    print(\"not\")"
   ]
  },
  {
   "cell_type": "code",
   "execution_count": 25,
   "id": "a56a931b",
   "metadata": {},
   "outputs": [
    {
     "name": "stdout",
     "output_type": "stream",
     "text": [
      "enter no97\n",
      "happy\n"
     ]
    }
   ],
   "source": [
    "def happyno(n):\n",
    "    s=0\n",
    "    while (n>0):\n",
    "        r=n%10\n",
    "        s+=r**2\n",
    "        n=n//10\n",
    "    return s\n",
    "n=int(input(\"enter no\"))\n",
    "r=n\n",
    "while r!=1 and r!=4:\n",
    "    r=happyno(r)\n",
    "if r==1:\n",
    "    print(\"happy\")\n",
    "else:\n",
    "    print(\"not happy\")"
   ]
  },
  {
   "cell_type": "code",
   "execution_count": 33,
   "id": "94ec8da3",
   "metadata": {},
   "outputs": [
    {
     "name": "stdout",
     "output_type": "stream",
     "text": [
      "nikhitha\n",
      "ikh\n",
      "not a anagram\n"
     ]
    }
   ],
   "source": [
    "str1=input()\n",
    "str2=input()\n",
    "if(sorted(str1)==sorted(str2)):\n",
    "    print(\"anagram\")\n",
    "else:\n",
    "    print(\"not a anagram\")\n",
    "    "
   ]
  },
  {
   "cell_type": "code",
   "execution_count": 34,
   "id": "879e7242",
   "metadata": {},
   "outputs": [
    {
     "name": "stdout",
     "output_type": "stream",
     "text": [
      "listen\n",
      "silent\n",
      "anagram\n"
     ]
    }
   ],
   "source": [
    "str1=input()\n",
    "str2=input()\n",
    "if len(str1)==len(str2):\n",
    "    if(sorted(str1)==sorted(str2)):\n",
    "        print(\"anagram\")\n",
    "else:\n",
    "    print(\"not a anagram\")"
   ]
  },
  {
   "cell_type": "code",
   "execution_count": 9,
   "id": "afa2fd53",
   "metadata": {},
   "outputs": [
    {
     "name": "stdout",
     "output_type": "stream",
     "text": [
      "<class 'list'>\n",
      "[1, 2, 3, 1]\n",
      "[1, 2, 3, 1, 15, 25, 35, 45]\n",
      "2\n",
      "0\n"
     ]
    }
   ],
   "source": [
    "arr=[1,2,3,1]\n",
    "print(type(arr))\n",
    "print(arr)\n",
    "arr.extend([15,25,35,45])\n",
    "print(arr)\n",
    "print(arr.count(1))\n",
    "print(arr.index(1))"
   ]
  },
  {
   "cell_type": "code",
   "execution_count": 14,
   "id": "a9e57982",
   "metadata": {},
   "outputs": [
    {
     "name": "stdout",
     "output_type": "stream",
     "text": [
      "<class 'list'>\n",
      "[1, 2, 3, 1]\n",
      "[1, 2, 3, 1, 20]\n",
      "[1, 2, 1, 20]\n",
      "[1, 2, 5, 1, 20]\n",
      "[1, 2, 5, 1, 20, 15, 25, 35, 45]\n",
      "2\n",
      "0\n",
      "[1, 1, 2, 5, 15, 20, 25, 35, 45]\n"
     ]
    }
   ],
   "source": [
    "#list functions\n",
    "arr=[1,2,3,1]\n",
    "print(type(arr))\n",
    "print(arr)\n",
    "arr.append(20)\n",
    "print(arr)\n",
    "arr.pop(2)\n",
    "print(arr)\n",
    "arr.insert(2,5)\n",
    "print(arr)\n",
    "arr.extend([15,25,35,45])\n",
    "print(arr)\n",
    "print(arr.count(1))\n",
    "print(arr.index(1))\n",
    "arr.sort()\n",
    "print(arr)"
   ]
  },
  {
   "cell_type": "code",
   "execution_count": 3,
   "id": "03a1cfda",
   "metadata": {},
   "outputs": [
    {
     "name": "stdout",
     "output_type": "stream",
     "text": [
      "enter marks:12\n",
      "enter marks:12\n",
      "enter marks:12\n",
      "enter marks:13\n",
      "enter marks:13\n",
      "enter marks:13\n",
      "12.5\n",
      "nikhitha [12, 12, 12, 13, 13, 13]\n"
     ]
    }
   ],
   "source": [
    "# to take student name and marks as input and return their averages\n",
    "class student:\n",
    "    def __init__(self,name):\n",
    "        self.name=name\n",
    "        self.marks=[]\n",
    "        self.get_marks()\n",
    "        self.avrg()\n",
    "        self.display()\n",
    "    def get_marks(self) :\n",
    "        for i in range(1,7):\n",
    "            m=int(input(\"enter marks:\"))\n",
    "            self.marks.append(m)\n",
    "    def avrg(self):\n",
    "        avg=sum(self.marks)/len(self.marks)\n",
    "        print(avg)\n",
    "    def display(self):\n",
    "        print(self.name,self.marks)\n",
    "s=student(\"nikhitha\")\n"
   ]
  },
  {
   "cell_type": "code",
   "execution_count": 10,
   "id": "25b4e7f3",
   "metadata": {},
   "outputs": [
    {
     "name": "stdout",
     "output_type": "stream",
     "text": [
      "7\n",
      "1\n"
     ]
    }
   ],
   "source": [
    "class division:\n",
    "    def __init__(self,num1,num2):\n",
    "        self.num1=num1\n",
    "        self.num2=num2\n",
    "        self.div()\n",
    "    def div(self):\n",
    "        q=self.num1//self.num2\n",
    "        r=self.num1%self.num2\n",
    "        print(q)\n",
    "        print(r)\n",
    "s=division(15,2)\n",
    "        "
   ]
  },
  {
   "cell_type": "code",
   "execution_count": 9,
   "id": "177c5753",
   "metadata": {},
   "outputs": [
    {
     "name": "stdout",
     "output_type": "stream",
     "text": [
      "10\n",
      "20\n",
      "2.0\n"
     ]
    }
   ],
   "source": [
    "class division:\n",
    "    def __init__(self,num1,num2):\n",
    "        self.num1=num1\n",
    "        self.num2=num2\n",
    "        self.div()\n",
    "    def div(self):\n",
    "        q=self.num1/self.num2\n",
    "        print(q)\n",
    "    @classmethod\n",
    "    def trail(cls,num1,num2):\n",
    "        if(num1>num2):\n",
    "            return cls(num1,num2)\n",
    "        else:\n",
    "            return cls(num2,num1)\n",
    "num1=int(input())\n",
    "num2=int(input())\n",
    "s=division.trail(num1,num2)"
   ]
  },
  {
   "cell_type": "code",
   "execution_count": 20,
   "id": "b929b449",
   "metadata": {},
   "outputs": [
    {
     "name": "stdout",
     "output_type": "stream",
     "text": [
      "100\n"
     ]
    }
   ],
   "source": [
    "#write a cls to find area of rectangle\n",
    "class rect:\n",
    "    def __init__(self,num1,num2):\n",
    "        self.num1=num1\n",
    "        self.num2=num2\n",
    "        self.area()\n",
    "    def area(self):\n",
    "        q=self.num1*self.num2\n",
    "        print(q)\n",
    "    @classmethod\n",
    "    def square(cls,side):\n",
    "        return cls(side,side)\n",
    "d=rect.square(10)"
   ]
  },
  {
   "cell_type": "code",
   "execution_count": 23,
   "id": "63c193e7",
   "metadata": {},
   "outputs": [
    {
     "name": "stdout",
     "output_type": "stream",
     "text": [
      "40\n",
      "100\n",
      "20\n"
     ]
    }
   ],
   "source": [
    "class rect:\n",
    "    def __init__(self,num1,num2):\n",
    "        self.num1=num1\n",
    "        self.num2=num2\n",
    "        self.area()\n",
    "    def area(self):\n",
    "        q=self.num1*self.num2\n",
    "        print(q)\n",
    "    @classmethod\n",
    "    def square(cls,side):\n",
    "        return cls(side,side)\n",
    "    @classmethod\n",
    "    def paralleogram(cls,b,h):\n",
    "        return cls(b,h)\n",
    "d=rect(10,4)\n",
    "d1=rect.square(10)\n",
    "d2=rect.paralleogram(10,2)"
   ]
  },
  {
   "cell_type": "code",
   "execution_count": 26,
   "id": "ec11c794",
   "metadata": {},
   "outputs": [
    {
     "name": "stdout",
     "output_type": "stream",
     "text": [
      "10\n"
     ]
    }
   ],
   "source": [
    "class A():\n",
    "    num1=10\n",
    "    pass\n",
    "class B(A):\n",
    "    num2=20\n",
    "class C(B):\n",
    "    num3=30\n",
    "print(C.num1)"
   ]
  },
  {
   "cell_type": "code",
   "execution_count": 28,
   "id": "02b998f4",
   "metadata": {},
   "outputs": [
    {
     "name": "stdout",
     "output_type": "stream",
     "text": [
      "20\n"
     ]
    }
   ],
   "source": [
    "#mnay to one\n",
    "class A():\n",
    "    num1=10\n",
    "    pass\n",
    "class B():\n",
    "    num2=20\n",
    "class C(A,B):\n",
    "    num3=30\n",
    "print(C.num2)"
   ]
  },
  {
   "cell_type": "code",
   "execution_count": 29,
   "id": "5d4011ea",
   "metadata": {},
   "outputs": [
    {
     "name": "stdout",
     "output_type": "stream",
     "text": [
      "20\n"
     ]
    }
   ],
   "source": [
    "#mnay to many\n",
    "class A():\n",
    "    num1=10\n",
    "    pass\n",
    "class B():\n",
    "    num2=20\n",
    "class C(A,B):\n",
    "    num3=30\n",
    "class D(C,A,B):\n",
    "    print(C.num2)"
   ]
  },
  {
   "cell_type": "code",
   "execution_count": 30,
   "id": "a064e514",
   "metadata": {},
   "outputs": [
    {
     "name": "stdout",
     "output_type": "stream",
     "text": [
      "nikhitha 20\n"
     ]
    }
   ],
   "source": [
    "#write a parent class of name and age of a person\n",
    "class parent():\n",
    "    name=\"nikhitha\"\n",
    "    age=20\n",
    "print(parent.name,parent.age)"
   ]
  },
  {
   "cell_type": "code",
   "execution_count": 33,
   "id": "bb8261f8",
   "metadata": {},
   "outputs": [
    {
     "name": "stdout",
     "output_type": "stream",
     "text": [
      "pramod\n",
      "45\n",
      "HoD\n",
      "25\n"
     ]
    }
   ],
   "source": [
    "class person():\n",
    "    def __init__(self,name,age):\n",
    "        self.name=name\n",
    "        self.age=age\n",
    "    def display(self):\n",
    "        print(self.name)\n",
    "        print(self.age)\n",
    "class teacher(person):\n",
    "    def __init__(self,name,age,desigantion,exp):\n",
    "        person.__init__(self,name,age)\n",
    "        self.desigantion=desigantion\n",
    "        self.exp=exp\n",
    "        self.__display()\n",
    "    def __display(self):\n",
    "        person.display(self)\n",
    "        print(self.desigantion)\n",
    "        print(self.exp)\n",
    "    \n",
    "class student(person):\n",
    "    def __init__(self,name,age,branch,year):\n",
    "        person.__init__(self,name,age)\n",
    "        self.branch=branch\n",
    "        self.year=year\n",
    "        self.__display()\n",
    "    \n",
    "    def __display(self):\n",
    "        person.display(self)\n",
    "        print(self.branch)\n",
    "        print(self.year)    \n",
    "teach1=teacher('pramod',45,'HoD',25)"
   ]
  },
  {
   "cell_type": "code",
   "execution_count": 37,
   "id": "367a8440",
   "metadata": {
    "scrolled": true
   },
   "outputs": [
    {
     "name": "stdout",
     "output_type": "stream",
     "text": [
      "*****minimum eligibility to apply*****\n",
      "academic score 90% and above\n",
      "ece score 60% and above\n"
     ]
    }
   ],
   "source": [
    "#multi-path to cross check whether the student is eligble for academics or not\n",
    "class student:\n",
    "    def name(self):\n",
    "        print(\"name----\")\n",
    "class ap(student):\n",
    "    def ac(self):\n",
    "        print(\"academic score 90% and above\")\n",
    "class ece(student):\n",
    "    def eces(self):\n",
    "        print(\"ece score 60% and above\")\n",
    "class result(ap,ece):\n",
    "    def e(self):\n",
    "        print(\"*****minimum eligibility to apply*****\")\n",
    "        self.ac()\n",
    "        self.eces()\n",
    "r=result()\n",
    "r.e()"
   ]
  },
  {
   "cell_type": "code",
   "execution_count": 41,
   "id": "52b18282",
   "metadata": {},
   "outputs": [
    {
     "name": "stdout",
     "output_type": "stream",
     "text": [
      "number= 100\n"
     ]
    }
   ],
   "source": [
    "#compoisition of multi path\n",
    "class one:\n",
    "    def set(self,var):\n",
    "        self.var=var\n",
    "    def get(self):\n",
    "        return self.var\n",
    "class two:\n",
    "    def __init__(self,var):\n",
    "        self.o=one()\n",
    "        self.o.set(var)\n",
    "    def show(self):\n",
    "        print(\"number=\",self.o.get())\n",
    "        \n",
    "t=two(100)\n",
    "t.show()"
   ]
  },
  {
   "cell_type": "code",
   "execution_count": 43,
   "id": "60475a5b",
   "metadata": {},
   "outputs": [
    {
     "name": "stdout",
     "output_type": "stream",
     "text": [
      "10\n"
     ]
    }
   ],
   "source": [
    "#program to use get and set functions to reterive and set a value\n",
    "class sample:\n",
    "    def __init__(self,val):\n",
    "        self.val=val\n",
    "    def get_val(self):\n",
    "        return self.val\n",
    "    def set_val(self,val):\n",
    "        self.val=val\n",
    "s=sample(20)\n",
    "s.set_val(10)\n",
    "print(s.get_val())"
   ]
  },
  {
   "cell_type": "code",
   "execution_count": 46,
   "id": "f7d99040",
   "metadata": {},
   "outputs": [],
   "source": [
    "#using property and setter\n",
    "class sample:\n",
    "    def __init__(self,val):\n",
    "        self.val=val\n",
    "    @property\n",
    "    def val(self):\n",
    "        return self.__val\n",
    "    @val.setter\n",
    "    def val(self,val):\n",
    "        self.__val=val\n",
    "s=sample(20)"
   ]
  },
  {
   "cell_type": "code",
   "execution_count": 15,
   "id": "be8f6110",
   "metadata": {},
   "outputs": [
    {
     "name": "stdout",
     "output_type": "stream",
     "text": [
      "( 4 + 6 i )\n"
     ]
    }
   ],
   "source": [
    "'''wite a program to take 4 inital values to convert into complex values respectively define a function complex in \n",
    "which use the pre define method _add_ to convert int value into read and imaginary, following submit the 2 \n",
    "values 1,2 and 3,4 \n",
    "return values 3+6i'''\n",
    "class complex:\n",
    "    def __init__(self):\n",
    "        self.real=0\n",
    "        self.imag=0\n",
    "    def setvalue(self,real,imag):\n",
    "        self.real=real\n",
    "        self.imag=imag\n",
    "    def __add__(self,c):\n",
    "        temp=complex()\n",
    "        temp.real=self.real+c.real\n",
    "        temp.imag=self.imag+c.imag\n",
    "        return temp\n",
    "    def display(self):\n",
    "        print(\"(\",self.real,\"+\",self.imag,'i',')')\n",
    "c1=complex()\n",
    "c1.setvalue(1,2)\n",
    "c2=complex()\n",
    "c2.setvalue(3,4)\n",
    "c3=complex()\n",
    "c3=c1+c2\n",
    "c3.display()"
   ]
  },
  {
   "cell_type": "code",
   "execution_count": 37,
   "id": "57dc86c6",
   "metadata": {},
   "outputs": [
    {
     "name": "stdout",
     "output_type": "stream",
     "text": [
      "this book is kowledgable:\n",
      "title: oops with c++\n",
      "publ: oxward university\n",
      "price: 600\n"
     ]
    }
   ],
   "source": [
    "'''WAP to comparir two objects of uesr define class type by making a class(book) in which aconstructer parameters would be\n",
    "title ,publisher,price define a function set a class book by assigning all the three parameters and accesing to the class book,\n",
    "display the three parametrs by using an other function and compair both the books prices and buy the expensive one with the\n",
    "help of pre defined function _gt_\n",
    "\n",
    "parameter title-oops with c++,publisher-oxwoard university,price 600\n",
    "basics of c++,   ,300'''\n",
    "class book():\n",
    "    def __init__(self):\n",
    "        self.title=''\n",
    "        self.publ=''\n",
    "        self.price=0\n",
    "    def get_val(self,title,publ,price):\n",
    "        self.title=title\n",
    "        self.publ=publ\n",
    "        self.price=price\n",
    "    def display(self):\n",
    "        print('title:',self.title)\n",
    "        print('publ:',self.publ)\n",
    "        print('price:',self.price)\n",
    "        \n",
    "        \n",
    "    def __gt__(self,b):\n",
    "        if self.price>b.price:\n",
    "            return True\n",
    "        else:\n",
    "            return False\n",
    "b1=book()\n",
    "b1.get_val('oops with c++','oxward university',600)\n",
    "b2=book()\n",
    "b2.get_val('basics of c++','abc',300)\n",
    "if b1>b2:\n",
    "    print('this book is kowledgable:')\n",
    "    b1.display()\n",
    "else:\n",
    "    print('this book is kowledgable:')\n",
    "    b2.display()"
   ]
  },
  {
   "cell_type": "code",
   "execution_count": 55,
   "id": "9f8c3675",
   "metadata": {},
   "outputs": [
    {
     "name": "stdout",
     "output_type": "stream",
     "text": [
      "3 . 53 km\n"
     ]
    }
   ],
   "source": [
    "class distances:\n",
    "    def __init__(self):\n",
    "        self.k=0\n",
    "        self.m=0\n",
    "    def setvalue(self,k,m):\n",
    "        self.k=k\n",
    "        self.m=m\n",
    "    def __sub__(self,c):\n",
    "        temp=distances()\n",
    "        temp.k=self.k-c.k\n",
    "        temp.m=abs((self.m-c.m))\n",
    "        return temp\n",
    "    def display(self):\n",
    "        print(self.k,\".\",self.m,'km')\n",
    "c1=distances()\n",
    "c1.setvalue(21,70)\n",
    "c2=distances()\n",
    "c2.setvalue(18,123)\n",
    "c3=distances()\n",
    "c3=c1-c2\n",
    "c3.display()"
   ]
  },
  {
   "cell_type": "code",
   "execution_count": 56,
   "id": "4692dac8",
   "metadata": {},
   "outputs": [
    {
     "name": "stdout",
     "output_type": "stream",
     "text": [
      "d1-d2=\n",
      "2 km 947 m\n"
     ]
    }
   ],
   "source": [
    "class distance():\n",
    "    def __init__(self):\n",
    "        self.km=0\n",
    "        self.m=0\n",
    "        \n",
    "    def setvalue(self,km,m):\n",
    "        self.km=km\n",
    "        self.m=m\n",
    "    \n",
    "    def __isub__(self,d):\n",
    "        #temp=distance()\n",
    "        #temp.km=self.km-c.km\n",
    "        self.m=self.m-d.m\n",
    "        if self.m<0:\n",
    "            self.m+=1000\n",
    "        self.km-=1\n",
    "        self.km=self.km-d.km\n",
    "        return self\n",
    "    def convert_to_meters(self):\n",
    "        print(self.km*1000+self.m)\n",
    "    def display(self):\n",
    "        print(self.km,'km',self.m,'m')\n",
    "d1=distance()\n",
    "d2=distance()\n",
    "d1.setvalue(21,70)\n",
    "d2.setvalue(18,123)\n",
    "d1-=d2\n",
    "\n",
    "print('d1-d2=')\n",
    "d1.display()"
   ]
  },
  {
   "cell_type": "code",
   "execution_count": 6,
   "id": "07b04a7f",
   "metadata": {},
   "outputs": [
    {
     "name": "stdout",
     "output_type": "stream",
     "text": [
      "enter lenght2\n",
      "enter breadth3\n",
      "6\n",
      "3.0\n"
     ]
    }
   ],
   "source": [
    "class rectangle():\n",
    "    def get_data(self):\n",
    "        rectangle.num1=int(input('enter lenght'))\n",
    "        rectangle.num2=int(input('enter breadth'))\n",
    "    def area(self):\n",
    "        q=self.num1*self.num2\n",
    "        print(q)\n",
    "class triangle(rectangle):\n",
    "    def __init__(self):\n",
    "        rectangle.__init__(self)\n",
    "    def area(self):\n",
    "        a=0.5*self.num1*self.num2\n",
    "        print(a)\n",
    "        \n",
    "r=rectangle()\n",
    "r.get_data()\n",
    "r.area()\n",
    "t=triangle()\n",
    "t.area()"
   ]
  },
  {
   "cell_type": "code",
   "execution_count": 11,
   "id": "fae3206b",
   "metadata": {},
   "outputs": [
    {
     "name": "stdout",
     "output_type": "stream",
     "text": [
      "enter lenght2\n",
      "enter breadth4\n",
      "8.0\n",
      "enter base2\n",
      "enter height4\n",
      "4.0\n"
     ]
    }
   ],
   "source": [
    "class polygon():\n",
    "    def get_data(self):\n",
    "        raise NotImplementedError()\n",
    "    def area(self):\n",
    "        raise NotImplementedError()\n",
    "class rect(polygon):\n",
    "    def get_data(self):\n",
    "        self.l=float(input('enter lenght'))\n",
    "        self.b=float(input('enter breadth'))\n",
    "    def area(self):\n",
    "        print( self.l*self.b)\n",
    "class tri(polygon):\n",
    "    def get_data(self):\n",
    "        self.base=float(input('enter base'))\n",
    "        self.h=float(input('enter height'))\n",
    "    def area(self):\n",
    "        print(0.5*self.base*self.h)\n",
    "r=rect()\n",
    "r.get_data()\n",
    "r.area()\n",
    "t=tri()\n",
    "t.get_data()\n",
    "t.area()"
   ]
  },
  {
   "cell_type": "code",
   "execution_count": 12,
   "id": "f12d4e1f",
   "metadata": {},
   "outputs": [
    {
     "name": "stdout",
     "output_type": "stream",
     "text": [
      "nikhitha\n",
      "23\n",
      "female\n",
      "HOD\n",
      "ece\n",
      "22\n",
      "4\n",
      "2\n"
     ]
    }
   ],
   "source": [
    "class person():\n",
    "    def __init__(self,name,age,g):\n",
    "        self.name=name\n",
    "        self.age=age\n",
    "        self.g=g\n",
    "    def display(self):\n",
    "        print(self.name)\n",
    "        print(self.age)\n",
    "        print(self.g)\n",
    "class publications():\n",
    "    def __init__(self,no_rp,no_book,no_art):\n",
    "        self.no_rp=no_rp\n",
    "        self.no_book=no_book\n",
    "        self.no_art=no_art\n",
    "    def display(self):\n",
    "        #person.display(self)\n",
    "        print(self.no_rp)\n",
    "        print(self.no_book)\n",
    "        print(self.no_art) \n",
    "class teacher(person):\n",
    "    def __init__(self,name,age,g,d,dept,no_rp,no_book,no_art):\n",
    "        person.__init__(self,name,age,g)\n",
    "        self.d=d\n",
    "        self.dept=dept\n",
    "        self.publ=publications(no_rp,no_book,no_art)\n",
    "    def display(self):\n",
    "        person.display(self)\n",
    "        print(self.d)\n",
    "        print(self.dept)\n",
    "        self.publ.display()\n",
    "t=teacher(\"nikhitha\",23,\"female\",\"HOD\",\"ece\",22,4,2)\n",
    "t.display()"
   ]
  },
  {
   "cell_type": "code",
   "execution_count": 3,
   "id": "eec8c39f",
   "metadata": {},
   "outputs": [
    {
     "name": "stdout",
     "output_type": "stream",
     "text": [
      "im a normal method defined inside the abstract class shape\n",
      "6\n"
     ]
    }
   ],
   "source": [
    "from abc import ABC\n",
    "class Shape(ABC):\n",
    "    def print(self):\n",
    "        print(\"im a normal method defined inside the abstract class shape\")\n",
    "    def caluclate_area(self):\n",
    "        pass\n",
    "class Rectangle(Shape):\n",
    "    length=2\n",
    "    breadth=3\n",
    "    def caluclate_area(self):\n",
    "        return self.length*self.breadth\n",
    "    \n",
    "rec=Rectangle()\n",
    "rec.print()\n",
    "print(rec.caluclate_area())\n",
    "        "
   ]
  },
  {
   "cell_type": "code",
   "execution_count": 15,
   "id": "09448e56",
   "metadata": {},
   "outputs": [
    {
     "name": "stdout",
     "output_type": "stream",
     "text": [
      "no of vechile:200\n",
      "no. of wheels540\n",
      "130\n",
      "70\n"
     ]
    }
   ],
   "source": [
    "#tcs 2022\n",
    "#an autobile compnay manufactures both 2 wehheler and 4 wheeler and need to manautfacture as per the give data\n",
    "v=int(input(\"no of vechile:\"))\n",
    "w=int(input(\"no. of wheels\"))\n",
    "if (w%2)==1 or w<2 or w<=v:\n",
    "    print(\"invalid input\")\n",
    "else:\n",
    "    x=(4*v-w)//2\n",
    "    print(x)\n",
    "y=v-x\n",
    "print(y)"
   ]
  },
  {
   "cell_type": "code",
   "execution_count": 16,
   "id": "3f12e72e",
   "metadata": {},
   "outputs": [
    {
     "name": "stdout",
     "output_type": "stream",
     "text": [
      "no.of candies10\n",
      "no.of sold candies3\n",
      "no of available candies 7\n"
     ]
    }
   ],
   "source": [
    "n=int(input('no.of candies'))\n",
    "m=int(input('no.of sold candies'))\n",
    "if n>m:\n",
    "    print(\"no of available candies\",n-m)"
   ]
  },
  {
   "cell_type": "code",
   "execution_count": 17,
   "id": "6077f44d",
   "metadata": {},
   "outputs": [
    {
     "name": "stdout",
     "output_type": "stream",
     "text": [
      "no.of candies10\n",
      "no.of sold candies3\n",
      "no of available candies 7\n"
     ]
    }
   ],
   "source": [
    "n=int(input('no.of candies'))\n",
    "m=int(input('no.of sold candies'))\n",
    "if m in range(n):\n",
    "    print(\"no of available candies\",n-m)"
   ]
  },
  {
   "cell_type": "code",
   "execution_count": 22,
   "id": "588d8173",
   "metadata": {},
   "outputs": [
    {
     "name": "stdout",
     "output_type": "stream",
     "text": [
      "enter fuel:\n"
     ]
    },
    {
     "ename": "ValueError",
     "evalue": "invalid literal for int() with base 10: ''",
     "output_type": "error",
     "traceback": [
      "\u001b[1;31m---------------------------------------------------------------------------\u001b[0m",
      "\u001b[1;31mValueError\u001b[0m                                Traceback (most recent call last)",
      "\u001b[1;32m<ipython-input-22-0ffee886c882>\u001b[0m in \u001b[0;36m<module>\u001b[1;34m\u001b[0m\n\u001b[1;32m----> 1\u001b[1;33m \u001b[0mfuel\u001b[0m\u001b[1;33m=\u001b[0m\u001b[0mint\u001b[0m\u001b[1;33m(\u001b[0m\u001b[0minput\u001b[0m\u001b[1;33m(\u001b[0m\u001b[1;34m\"enter fuel:\"\u001b[0m\u001b[1;33m)\u001b[0m\u001b[1;33m)\u001b[0m\u001b[1;33m\u001b[0m\u001b[1;33m\u001b[0m\u001b[0m\n\u001b[0m\u001b[0;32m      2\u001b[0m \u001b[0mdistance\u001b[0m\u001b[1;33m=\u001b[0m\u001b[0mint\u001b[0m\u001b[1;33m(\u001b[0m\u001b[0minput\u001b[0m\u001b[1;33m(\u001b[0m\u001b[1;34m\"enter distance\"\u001b[0m\u001b[1;33m)\u001b[0m\u001b[1;33m)\u001b[0m\u001b[1;33m\u001b[0m\u001b[1;33m\u001b[0m\u001b[0m\n\u001b[0;32m      3\u001b[0m \u001b[0mfuelconsumption\u001b[0m\u001b[1;33m=\u001b[0m\u001b[0mdistance\u001b[0m\u001b[1;33m/\u001b[0m\u001b[0mfuel\u001b[0m\u001b[1;33m\u001b[0m\u001b[1;33m\u001b[0m\u001b[0m\n\u001b[0;32m      4\u001b[0m \u001b[0mprint\u001b[0m\u001b[1;33m(\u001b[0m\u001b[0mfuelconsumption\u001b[0m\u001b[1;33m)\u001b[0m\u001b[1;33m\u001b[0m\u001b[1;33m\u001b[0m\u001b[0m\n",
      "\u001b[1;31mValueError\u001b[0m: invalid literal for int() with base 10: ''"
     ]
    }
   ],
   "source": [
    "fuel=int(input(\"enter fuel:\"))\n",
    "distance=int(input(\"enter distance\"))\n",
    "fuelconsumption=distance/fuel\n",
    "print(fuelconsumption)"
   ]
  },
  {
   "cell_type": "code",
   "execution_count": 1,
   "id": "4314ef1c",
   "metadata": {},
   "outputs": [
    {
     "name": "stdout",
     "output_type": "stream",
     "text": [
      "enter the no .of liters to fill the tank\n",
      "20\n",
      "enter the distance covered\n",
      "150\n",
      "liters/100km\n",
      "13.33\n",
      "miles/gallons\n",
      "17.64\n"
     ]
    }
   ],
   "source": [
    "import sys\n",
    "print('enter the no .of liters to fill the tank')\n",
    "ltt=int(input())\n",
    "lt=(ltt*1.00)\n",
    "if(ltt<1):\n",
    "    print('{} is an invalid input'.format(ltt))\n",
    "    sys.exit()\n",
    "print('enter the distance covered')\n",
    "diss=int(input())\n",
    "dis=(diss*1.00)\n",
    "if(diss<1):\n",
    "    print('{} is an invalid input'.format(diss))\n",
    "    sys.exit()\n",
    "hundred=(lt/dis)*100\n",
    "print('liters/100km')\n",
    "print(round(hundred,2))\n",
    "miles=(dis*0.6214)\n",
    "gallon=(lt*0.2642)\n",
    "mg=miles/gallon\n",
    "print('miles/gallons')\n",
    "print(round(mg,2))"
   ]
  },
  {
   "cell_type": "code",
   "execution_count": null,
   "id": "c89b7399",
   "metadata": {},
   "outputs": [],
   "source": []
  }
 ],
 "metadata": {
  "kernelspec": {
   "display_name": "Python 3",
   "language": "python",
   "name": "python3"
  },
  "language_info": {
   "codemirror_mode": {
    "name": "ipython",
    "version": 3
   },
   "file_extension": ".py",
   "mimetype": "text/x-python",
   "name": "python",
   "nbconvert_exporter": "python",
   "pygments_lexer": "ipython3",
   "version": "3.8.8"
  }
 },
 "nbformat": 4,
 "nbformat_minor": 5
}
